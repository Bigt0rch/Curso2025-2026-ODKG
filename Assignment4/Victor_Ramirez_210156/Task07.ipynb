{
  "cells": [
    {
      "cell_type": "markdown",
      "metadata": {
        "id": "nOOPLCHF7hLB"
      },
      "source": [
        "**Task 07: Querying RDF(s)**"
      ]
    },
    {
      "cell_type": "code",
      "execution_count": 49,
      "metadata": {
        "id": "Yl9npCt8n6m-"
      },
      "outputs": [
        {
          "name": "stdout",
          "output_type": "stream",
          "text": [
            "Requirement already satisfied: rdflib in c:\\users\\usuario\\appdata\\local\\packages\\pythonsoftwarefoundation.python.3.11_qbz5n2kfra8p0\\localcache\\local-packages\\python311\\site-packages (7.2.1)\n",
            "Requirement already satisfied: pyparsing<4,>=2.1.0 in c:\\users\\usuario\\appdata\\local\\packages\\pythonsoftwarefoundation.python.3.11_qbz5n2kfra8p0\\localcache\\local-packages\\python311\\site-packages (from rdflib) (3.1.1)\n"
          ]
        },
        {
          "name": "stderr",
          "output_type": "stream",
          "text": [
            "\n",
            "[notice] A new release of pip is available: 24.0 -> 25.2\n",
            "[notice] To update, run: C:\\Users\\Usuario\\AppData\\Local\\Microsoft\\WindowsApps\\PythonSoftwareFoundation.Python.3.11_qbz5n2kfra8p0\\python.exe -m pip install --upgrade pip\n"
          ]
        }
      ],
      "source": [
        "!pip install rdflib\n",
        "import urllib.request\n",
        "url = 'https://raw.githubusercontent.com/FacultadInformatica-LinkedData/Curso2025-2026/refs/heads/master/Assignment4/course_materials/python/validation.py'\n",
        "urllib.request.urlretrieve(url, 'validation.py')\n",
        "github_storage = \"https://raw.githubusercontent.com/FacultadInformatica-LinkedData/Curso2025-2026/master/Assignment4/course_materials\""
      ]
    },
    {
      "cell_type": "code",
      "execution_count": 50,
      "metadata": {
        "id": "FmnGjffDT92V"
      },
      "outputs": [],
      "source": [
        "from validation import Report"
      ]
    },
    {
      "cell_type": "markdown",
      "metadata": {
        "id": "XY7aPc86Bqoo"
      },
      "source": [
        "First let's read the RDF file"
      ]
    },
    {
      "cell_type": "code",
      "execution_count": 51,
      "metadata": {
        "id": "9ERh415on7kF"
      },
      "outputs": [],
      "source": [
        "from rdflib import Graph, Namespace, Literal\n",
        "from rdflib.namespace import RDF, RDFS\n",
        "# Do not change the name of the variables\n",
        "g = Graph()\n",
        "g.namespace_manager.bind('ns', Namespace(\"http://somewhere#\"), override=False)\n",
        "g.parse(github_storage+\"/rdf/data06.ttl\", format=\"TTL\")\n",
        "report = Report()"
      ]
    },
    {
      "cell_type": "markdown",
      "metadata": {
        "id": "qp1oe2Eddsvo"
      },
      "source": [
        "**TASK 7.1a: For all classes, list each classURI. If the class belogs to another class, then list its superclass.**\n",
        "**Do the exercise in RDFLib returning a list of Tuples: (class, superclass) called \"result\". If a class does not have a super class, then return None as the superclass**"
      ]
    },
    {
      "cell_type": "code",
      "execution_count": 52,
      "metadata": {
        "id": "tRcSWuMHOXBl"
      },
      "outputs": [
        {
          "name": "stdout",
          "output_type": "stream",
          "text": [
            "(rdflib.term.URIRef('http://oeg.fi.upm.es/def/people#Person'), None)\n",
            "(rdflib.term.URIRef('http://oeg.fi.upm.es/def/people#Animal'), None)\n",
            "(rdflib.term.URIRef('http://oeg.fi.upm.es/def/people#Professor'), rdflib.term.URIRef('http://oeg.fi.upm.es/def/people#Person'))\n",
            "(rdflib.term.URIRef('http://oeg.fi.upm.es/def/people#Student'), rdflib.term.URIRef('http://oeg.fi.upm.es/def/people#Person'))\n",
            "(rdflib.term.URIRef('http://oeg.fi.upm.es/def/people#FullProfessor'), rdflib.term.URIRef('http://oeg.fi.upm.es/def/people#Professor'))\n",
            "(rdflib.term.URIRef('http://oeg.fi.upm.es/def/people#AssociateProfessor'), rdflib.term.URIRef('http://oeg.fi.upm.es/def/people#Professor'))\n",
            "(rdflib.term.URIRef('http://oeg.fi.upm.es/def/people#InterimAssociateProfessor'), rdflib.term.URIRef('http://oeg.fi.upm.es/def/people#AssociateProfessor'))\n"
          ]
        }
      ],
      "source": [
        "# TO DO\n",
        "# Visualize the results\n",
        "result = [] #list of tuples\n",
        "\n",
        "# Iterar sobre todas las clases definidas en el grafo\n",
        "for s in g.subjects(RDF.type, RDFS.Class):\n",
        "    # Buscar si tiene una superclase\n",
        "    superclass = None\n",
        "    for o in g.objects(s, RDFS.subClassOf):\n",
        "        superclass = o\n",
        "    result.append((s, superclass))\n",
        "\n",
        "for r in result:\n",
        "  print(r)"
      ]
    },
    {
      "cell_type": "code",
      "execution_count": 53,
      "metadata": {
        "id": "uvEpQQrTlMPH"
      },
      "outputs": [
        {
          "name": "stdout",
          "output_type": "stream",
          "text": [
            "TASK 7.1a OK\n"
          ]
        }
      ],
      "source": [
        "## Validation: Do not remove\n",
        "report.validate_07_1a(result)"
      ]
    },
    {
      "cell_type": "markdown",
      "metadata": {
        "id": "kbY-jqw6klr9"
      },
      "source": [
        "**TASK 7.1b: Repeat the same exercise in SPARQL, returning the variables ?c (class) and ?sc (superclass)**"
      ]
    },
    {
      "cell_type": "code",
      "execution_count": 54,
      "metadata": {
        "id": "NGAG7l9UklMC"
      },
      "outputs": [
        {
          "name": "stdout",
          "output_type": "stream",
          "text": [
            "http://oeg.fi.upm.es/def/people#Person None\n",
            "http://oeg.fi.upm.es/def/people#Animal None\n",
            "http://oeg.fi.upm.es/def/people#Professor http://oeg.fi.upm.es/def/people#Person\n",
            "http://oeg.fi.upm.es/def/people#Student http://oeg.fi.upm.es/def/people#Person\n",
            "http://oeg.fi.upm.es/def/people#FullProfessor http://oeg.fi.upm.es/def/people#Professor\n",
            "http://oeg.fi.upm.es/def/people#AssociateProfessor http://oeg.fi.upm.es/def/people#Professor\n",
            "http://oeg.fi.upm.es/def/people#InterimAssociateProfessor http://oeg.fi.upm.es/def/people#AssociateProfessor\n"
          ]
        }
      ],
      "source": [
        "query =  \"\"\"\n",
        "            SELECT ?c ?sc\n",
        "            WHERE {\n",
        "              ?c a rdfs:Class .\n",
        "              OPTIONAL {\n",
        "                ?c rdfs:subClassOf ?sc .\n",
        "              } \n",
        "            }\n",
        "\"\"\"\n",
        "\n",
        "for r in g.query(query):\n",
        "  print(r.c, r.sc)\n"
      ]
    },
    {
      "cell_type": "code",
      "execution_count": 55,
      "metadata": {
        "id": "9zf4vgVHlKR3"
      },
      "outputs": [
        {
          "name": "stdout",
          "output_type": "stream",
          "text": [
            "TASK 7.1b OK\n"
          ]
        }
      ],
      "source": [
        "## Validation: Do not remove\n",
        "report.validate_07_1b(query,g)"
      ]
    },
    {
      "cell_type": "markdown",
      "metadata": {
        "id": "gM3DASkTQQ5Y"
      },
      "source": [
        "**TASK 7.2a: List all individuals of \"Person\" with RDFLib (remember the subClasses). Return the individual URIs in a list called \"individuals\"**\n"
      ]
    },
    {
      "cell_type": "code",
      "execution_count": 56,
      "metadata": {
        "id": "LiKSPHRzS-XJ"
      },
      "outputs": [
        {
          "name": "stdout",
          "output_type": "stream",
          "text": [
            "http://oeg.fi.upm.es/def/people#Oscar\n",
            "http://oeg.fi.upm.es/def/people#Raul\n",
            "http://oeg.fi.upm.es/def/people#Asun\n"
          ]
        }
      ],
      "source": [
        "ns = Namespace(\"http://oeg.fi.upm.es/def/people#\")\n",
        "\n",
        "# variable to return\n",
        "individuals = []\n",
        "\n",
        "classes = set()\n",
        "classes.add(ns.Person)\n",
        "\n",
        "def find_subclasses(cls):\n",
        "    for subclass in g.subjects(RDFS.subClassOf, cls):\n",
        "        if subclass not in classes:\n",
        "            classes.add(subclass)\n",
        "            find_subclasses(subclass)\n",
        "\n",
        "find_subclasses(ns.Person)\n",
        "\n",
        "for c in classes:\n",
        "    for ind in g.subjects(RDF.type, c):\n",
        "        individuals.append(ind)\n",
        "        \n",
        "# visualize results\n",
        "for i in individuals:\n",
        "  print(i)"
      ]
    },
    {
      "cell_type": "code",
      "execution_count": 57,
      "metadata": {
        "id": "ONrAls5uiX1G"
      },
      "outputs": [
        {
          "name": "stdout",
          "output_type": "stream",
          "text": [
            "TASK 7.2a OK\n"
          ]
        }
      ],
      "source": [
        "# validation. Do not remove\n",
        "report.validate_07_02a(individuals)"
      ]
    },
    {
      "cell_type": "markdown",
      "metadata": {
        "id": "up-952A-za7A"
      },
      "source": [
        "**TASK 7.2b: Repeat the same exercise in SPARQL, returning the individual URIs in a variable ?ind**"
      ]
    },
    {
      "cell_type": "code",
      "execution_count": 58,
      "metadata": {
        "id": "ipYiEVbTzbR0"
      },
      "outputs": [
        {
          "name": "stdout",
          "output_type": "stream",
          "text": [
            "http://oeg.fi.upm.es/def/people#Asun\n",
            "http://oeg.fi.upm.es/def/people#Oscar\n",
            "http://oeg.fi.upm.es/def/people#Raul\n"
          ]
        }
      ],
      "source": [
        "query =  \"\"\"\n",
        "    PREFIX ns: <http://oeg.fi.upm.es/def/people#>\n",
        "    SELECT ?ind\n",
        "    WHERE {\n",
        "        ?ind rdf:type ?class .\n",
        "        ?class rdfs:subClassOf* ns:Person .\n",
        "    }\n",
        "\"\"\"\n",
        "\n",
        "for r in g.query(query):\n",
        "  print(r.ind)\n",
        "# Visualize the results"
      ]
    },
    {
      "cell_type": "code",
      "execution_count": 59,
      "metadata": {
        "id": "s-Hu2LxRjUQt"
      },
      "outputs": [
        {
          "name": "stdout",
          "output_type": "stream",
          "text": [
            "TASK 7.2b OK\n"
          ]
        }
      ],
      "source": [
        "## Validation: Do not remove\n",
        "report.validate_07_02b(g, query)"
      ]
    },
    {
      "cell_type": "markdown",
      "metadata": {
        "id": "3NyI7M2VNr9R"
      },
      "source": [
        "**TASK 7.3:  List the name and type of those who know Rocky (in SPARQL only). Use name and type as variables in the query**"
      ]
    },
    {
      "cell_type": "code",
      "execution_count": 60,
      "metadata": {
        "id": "I_CNoIKdNpbx"
      },
      "outputs": [
        {
          "name": "stdout",
          "output_type": "stream",
          "text": [
            "Asun http://oeg.fi.upm.es/def/people#FullProfessor\n",
            "Raul http://oeg.fi.upm.es/def/people#InterimAssociateProfessor\n",
            "Fantasma http://oeg.fi.upm.es/def/people#Animal\n"
          ]
        }
      ],
      "source": [
        "query =  \"\"\"\n",
        "    PREFIX ns: <http://oeg.fi.upm.es/def/people#>\n",
        "    SELECT ?name ?type\n",
        "    WHERE {\n",
        "        ?x ns:knows ns:Rocky .\n",
        "        ?x rdfs:label ?name .\n",
        "        ?x rdf:type ?type .\n",
        "    }\n",
        "\"\"\"\n",
        "# TO DO\n",
        "# Visualize the results\n",
        "for r in g.query(query):\n",
        "  print(r.name, r.type)\n"
      ]
    },
    {
      "cell_type": "code",
      "execution_count": 61,
      "metadata": {
        "id": "Zf3JS7tEhS2t"
      },
      "outputs": [
        {
          "name": "stdout",
          "output_type": "stream",
          "text": [
            "TASK 7.3 OK\n"
          ]
        }
      ],
      "source": [
        "## Validation: Do not remove\n",
        "report.validate_07_03(g, query)"
      ]
    },
    {
      "cell_type": "markdown",
      "metadata": {
        "id": "kyjGsyxDPa2C"
      },
      "source": [
        "**Task 7.4: List the name of those entities who have a colleague with a dog, or that have a collegue who has a colleague who has a dog (in SPARQL). Return the results in a variable called name**"
      ]
    },
    {
      "cell_type": "code",
      "execution_count": 62,
      "metadata": {
        "id": "yoVwVZUAPaLm"
      },
      "outputs": [
        {
          "name": "stdout",
          "output_type": "stream",
          "text": [
            "Asun\n",
            "Oscar\n",
            "Raul\n"
          ]
        }
      ],
      "source": [
        "query =  \"\"\"\n",
        "    PREFIX ns: <http://oeg.fi.upm.es/def/people#>\n",
        "    SELECT DISTINCT ?name\n",
        "    WHERE {\n",
        "        ?person rdfs:label ?name .\n",
        "        {\n",
        "            # His colleague has a dog\n",
        "            ?person ns:hasColleague ?col1 .\n",
        "            ?col1 ns:ownsPet ?dog .\n",
        "            ?dog rdf:type ns:Animal .\n",
        "        }\n",
        "        UNION\n",
        "        {\n",
        "            # The colleague of his colleague has a dog\n",
        "            ?person ns:hasColleague ?col1 .\n",
        "            ?col1 ns:hasColleague ?col2 .\n",
        "            ?col2 ns:ownsPet ?dog .\n",
        "            ?dog rdf:type ns:Animal .\n",
        "        }\n",
        "    }\n",
        "\"\"\"\n",
        "\n",
        "for r in g.query(query):\n",
        "  print(r.name)\n",
        "\n",
        "# TO DO\n",
        "# Visualize the results"
      ]
    },
    {
      "cell_type": "code",
      "execution_count": 63,
      "metadata": {
        "id": "zcTZE7ngj2fc"
      },
      "outputs": [
        {
          "name": "stdout",
          "output_type": "stream",
          "text": [
            "TASK 7.4 OK\n"
          ]
        }
      ],
      "source": [
        "## Validation: Do not remove\n",
        "report.validate_07_04(g,query)\n",
        "report.save_report(\"_Task_07\")"
      ]
    }
  ],
  "metadata": {
    "colab": {
      "provenance": []
    },
    "kernelspec": {
      "display_name": "Python 3",
      "language": "python",
      "name": "python3"
    },
    "language_info": {
      "codemirror_mode": {
        "name": "ipython",
        "version": 3
      },
      "file_extension": ".py",
      "mimetype": "text/x-python",
      "name": "python",
      "nbconvert_exporter": "python",
      "pygments_lexer": "ipython3",
      "version": "3.11.9"
    }
  },
  "nbformat": 4,
  "nbformat_minor": 0
}
