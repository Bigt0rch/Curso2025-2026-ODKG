{
  "cells": [
    {
      "cell_type": "markdown",
      "metadata": {
        "id": "nOOPLCHF7hLB"
      },
      "source": [
        "**Task 07: Querying RDF(s)**"
      ]
    },
    {
      "cell_type": "code",
      "execution_count": 2,
      "metadata": {
        "id": "Yl9npCt8n6m-"
      },
      "outputs": [
        {
          "name": "stdout",
          "output_type": "stream",
          "text": [
            "Requirement already satisfied: rdflib in /Users/pietromorcavallo/anaconda3/lib/python3.11/site-packages (7.2.1)\n",
            "Requirement already satisfied: pyparsing<4,>=2.1.0 in /Users/pietromorcavallo/anaconda3/lib/python3.11/site-packages (from rdflib) (3.0.9)\n"
          ]
        }
      ],
      "source": [
        "!pip install rdflib\n",
        "import urllib.request\n",
        "url = 'https://raw.githubusercontent.com/FacultadInformatica-LinkedData/Curso2025-2026/refs/heads/master/Assignment4/course_materials/python/validation.py'\n",
        "urllib.request.urlretrieve(url, 'validation.py')\n",
        "github_storage = \"https://raw.githubusercontent.com/FacultadInformatica-LinkedData/Curso2025-2026/master/Assignment4/course_materials\""
      ]
    },
    {
      "cell_type": "code",
      "execution_count": 3,
      "metadata": {
        "id": "FmnGjffDT92V"
      },
      "outputs": [],
      "source": [
        "from validation import Report"
      ]
    },
    {
      "cell_type": "markdown",
      "metadata": {
        "id": "XY7aPc86Bqoo"
      },
      "source": [
        "First let's read the RDF file"
      ]
    },
    {
      "cell_type": "code",
      "execution_count": 4,
      "metadata": {
        "id": "9ERh415on7kF"
      },
      "outputs": [],
      "source": [
        "from rdflib import Graph, Namespace, Literal\n",
        "from rdflib.namespace import RDF, RDFS\n",
        "# Do not change the name of the variables\n",
        "g = Graph()\n",
        "g.namespace_manager.bind('ns', Namespace(\"http://somewhere#\"), override=False)\n",
        "g.parse(github_storage+\"/rdf/data06.ttl\", format=\"TTL\")\n",
        "report = Report()"
      ]
    },
    {
      "cell_type": "markdown",
      "metadata": {
        "id": "qp1oe2Eddsvo"
      },
      "source": [
        "**TASK 7.1a: For all classes, list each classURI. If the class belogs to another class, then list its superclass.**\n",
        "**Do the exercise in RDFLib returning a list of Tuples: (class, superclass) called \"result\". If a class does not have a super class, then return None as the superclass**"
      ]
    },
    {
      "cell_type": "code",
      "execution_count": null,
      "metadata": {
        "id": "tRcSWuMHOXBl"
      },
      "outputs": [],
      "source": [
        "# TASK 7.1a \n",
        "result = []\n",
        "\n",
        "classes = set(g.subjects(RDF.type, RDFS.Class))\n",
        "\n",
        "for c in sorted(classes, key=lambda x: str(x)):\n",
        "    supercs = list(g.objects(c, RDFS.subClassOf))\n",
        "    if supercs:\n",
        "        for sc in supercs:\n",
        "            result.append((c, sc))\n",
        "    else:\n",
        "        result.append((c, None))\n",
        "        \n",
        "# Visualize the results\n",
        "for r in result:\n",
        "  print(r)"
      ]
    },
    {
      "cell_type": "code",
      "execution_count": 6,
      "metadata": {
        "id": "uvEpQQrTlMPH"
      },
      "outputs": [
        {
          "name": "stdout",
          "output_type": "stream",
          "text": [
            "ERROR: The number of classes returned is not correct\n"
          ]
        }
      ],
      "source": [
        "## Validation: Do not remove\n",
        "report.validate_07_1a(result)"
      ]
    },
    {
      "cell_type": "markdown",
      "metadata": {
        "id": "kbY-jqw6klr9"
      },
      "source": [
        "**TASK 7.1b: Repeat the same exercise in SPARQL, returning the variables ?c (class) and ?sc (superclass)**"
      ]
    },
    {
      "cell_type": "code",
      "execution_count": 7,
      "metadata": {
        "id": "NGAG7l9UklMC"
      },
      "outputs": [
        {
          "name": "stdout",
          "output_type": "stream",
          "text": [
            "http://oeg.fi.upm.es/def/people#Animal None\n",
            "http://oeg.fi.upm.es/def/people#AssociateProfessor http://oeg.fi.upm.es/def/people#Professor\n",
            "http://oeg.fi.upm.es/def/people#FullProfessor http://oeg.fi.upm.es/def/people#Professor\n",
            "http://oeg.fi.upm.es/def/people#InterimAssociateProfessor http://oeg.fi.upm.es/def/people#AssociateProfessor\n",
            "http://oeg.fi.upm.es/def/people#Person None\n",
            "http://oeg.fi.upm.es/def/people#Professor http://oeg.fi.upm.es/def/people#Person\n",
            "http://oeg.fi.upm.es/def/people#Student http://oeg.fi.upm.es/def/people#Person\n"
          ]
        }
      ],
      "source": [
        "# TASK 7.1b\n",
        "query = \"\"\"\n",
        "PREFIX rdfs: <http://www.w3.org/2000/01/rdf-schema#>\n",
        "SELECT ?c ?sc\n",
        "WHERE {\n",
        "  ?c a rdfs:Class .\n",
        "  OPTIONAL { ?c rdfs:subClassOf ?sc }\n",
        "  BIND(STR(COALESCE(?sc, \"\")) AS ?scs)\n",
        "}\n",
        "ORDER BY STR(?c) ?scs\n",
        "\"\"\"\n",
        "\n",
        "for r in g.query(query):\n",
        "  print(r.c, r.sc)\n"
      ]
    },
    {
      "cell_type": "code",
      "execution_count": 8,
      "metadata": {
        "id": "9zf4vgVHlKR3"
      },
      "outputs": [
        {
          "name": "stdout",
          "output_type": "stream",
          "text": [
            "TASK 7.1b OK\n"
          ]
        }
      ],
      "source": [
        "## Validation: Do not remove\n",
        "report.validate_07_1b(query,g)"
      ]
    },
    {
      "cell_type": "markdown",
      "metadata": {
        "id": "gM3DASkTQQ5Y"
      },
      "source": [
        "**TASK 7.2a: List all individuals of \"Person\" with RDFLib (remember the subClasses). Return the individual URIs in a list called \"individuals\"**\n"
      ]
    },
    {
      "cell_type": "code",
      "execution_count": 9,
      "metadata": {
        "id": "LiKSPHRzS-XJ"
      },
      "outputs": [
        {
          "name": "stdout",
          "output_type": "stream",
          "text": [
            "http://oeg.fi.upm.es/def/people#Asun\n",
            "http://oeg.fi.upm.es/def/people#Oscar\n",
            "http://oeg.fi.upm.es/def/people#Raul\n"
          ]
        }
      ],
      "source": [
        "# TASK 7.2a\n",
        "ns = Namespace(\"http://oeg.fi.upm.es/def/people#\")\n",
        "\n",
        "# trova tutte le sottoclassi (chiusura transitiva) di ns:Person\n",
        "to_visit = {ns.Person}\n",
        "all_types = set()\n",
        "\n",
        "while to_visit:\n",
        "    t = to_visit.pop()\n",
        "    if t in all_types:\n",
        "        continue\n",
        "    all_types.add(t)\n",
        "    # aggiungi le sottoclassi dirette di t\n",
        "    for sub in g.subjects(RDFS.subClassOf, t):\n",
        "        to_visit.add(sub)\n",
        "\n",
        "# raccogli gli individui tipizzati come una delle classi trovate\n",
        "individuals = []\n",
        "for t in all_types:\n",
        "    for ind in g.subjects(RDF.type, t):\n",
        "        individuals.append(ind)\n",
        "\n",
        "# rimuovi duplicati mantenendo ordine deterministico\n",
        "individuals = sorted(set(individuals), key=lambda x: str(x))\n",
        "\n",
        "# visualize results\n",
        "for i in individuals:\n",
        "  print(i)"
      ]
    },
    {
      "cell_type": "code",
      "execution_count": 10,
      "metadata": {
        "id": "ONrAls5uiX1G"
      },
      "outputs": [
        {
          "name": "stdout",
          "output_type": "stream",
          "text": [
            "TASK 7.2a OK\n"
          ]
        }
      ],
      "source": [
        "# validation. Do not remove\n",
        "report.validate_07_02a(individuals)"
      ]
    },
    {
      "cell_type": "markdown",
      "metadata": {
        "id": "up-952A-za7A"
      },
      "source": [
        "**TASK 7.2b: Repeat the same exercise in SPARQL, returning the individual URIs in a variable ?ind**"
      ]
    },
    {
      "cell_type": "code",
      "execution_count": 11,
      "metadata": {
        "id": "ipYiEVbTzbR0"
      },
      "outputs": [
        {
          "name": "stdout",
          "output_type": "stream",
          "text": [
            "http://oeg.fi.upm.es/def/people#Asun\n",
            "http://oeg.fi.upm.es/def/people#Oscar\n",
            "http://oeg.fi.upm.es/def/people#Raul\n"
          ]
        }
      ],
      "source": [
        "# TASK 7.2b\n",
        "query = \"\"\"\n",
        "PREFIX rdfs: <http://www.w3.org/2000/01/rdf-schema#>\n",
        "PREFIX ns:   <http://oeg.fi.upm.es/def/people#>\n",
        "SELECT ?ind\n",
        "WHERE {\n",
        "  ?ind a ?t .\n",
        "  ?t rdfs:subClassOf* ns:Person .\n",
        "}\n",
        "ORDER BY STR(?ind)\n",
        "\"\"\"\n",
        "\n",
        "for r in g.query(query):\n",
        "  print(r.ind)\n",
        "# Visualize the results"
      ]
    },
    {
      "cell_type": "code",
      "execution_count": 12,
      "metadata": {
        "id": "s-Hu2LxRjUQt"
      },
      "outputs": [
        {
          "name": "stdout",
          "output_type": "stream",
          "text": [
            "TASK 7.2b OK\n"
          ]
        }
      ],
      "source": [
        "## Validation: Do not remove\n",
        "report.validate_07_02b(g, query)"
      ]
    },
    {
      "cell_type": "markdown",
      "metadata": {
        "id": "3NyI7M2VNr9R"
      },
      "source": [
        "**TASK 7.3:  List the name and type of those who know Rocky (in SPARQL only). Use name and type as variables in the query**"
      ]
    },
    {
      "cell_type": "code",
      "execution_count": 13,
      "metadata": {
        "id": "I_CNoIKdNpbx"
      },
      "outputs": [
        {
          "name": "stdout",
          "output_type": "stream",
          "text": [
            "Asun http://oeg.fi.upm.es/def/people#FullProfessor\n",
            "Raul http://oeg.fi.upm.es/def/people#InterimAssociateProfessor\n",
            "Fantasma http://oeg.fi.upm.es/def/people#Animal\n"
          ]
        }
      ],
      "source": [
        "# Task 7.3\n",
        "query = \"\"\"\n",
        "PREFIX : <http://oeg.fi.upm.es/def/people#>\n",
        "PREFIX rdfs: <http://www.w3.org/2000/01/rdf-schema#>\n",
        "SELECT DISTINCT ?name ?type WHERE {\n",
        "  ?entity :knows :Rocky .\n",
        "  ?entity rdfs:label ?name .\n",
        "  ?entity a ?type .\n",
        "}\n",
        "\"\"\"\n",
        "# Visualize the results\n",
        "for r in g.query(query):\n",
        "  print(r.name, r.type)\n"
      ]
    },
    {
      "cell_type": "code",
      "execution_count": 14,
      "metadata": {
        "id": "Zf3JS7tEhS2t"
      },
      "outputs": [
        {
          "name": "stdout",
          "output_type": "stream",
          "text": [
            "TASK 7.3 OK\n"
          ]
        }
      ],
      "source": [
        "## Validation: Do not remove\n",
        "report.validate_07_03(g, query)"
      ]
    },
    {
      "cell_type": "markdown",
      "metadata": {
        "id": "kyjGsyxDPa2C"
      },
      "source": [
        "**Task 7.4: List the name of those entities who have a colleague with a dog, or that have a collegue who has a colleague who has a dog (in SPARQL). Return the results in a variable called name**"
      ]
    },
    {
      "cell_type": "code",
      "execution_count": 15,
      "metadata": {
        "id": "yoVwVZUAPaLm"
      },
      "outputs": [
        {
          "name": "stdout",
          "output_type": "stream",
          "text": [
            "Asun\n",
            "Oscar\n",
            "Raul\n"
          ]
        }
      ],
      "source": [
        "# Task 7.4\n",
        "query = \"\"\"\n",
        "PREFIX : <http://oeg.fi.upm.es/def/people#>\n",
        "PREFIX rdfs: <http://www.w3.org/2000/01/rdf-schema#>\n",
        "SELECT DISTINCT ?name WHERE {\n",
        "  {\n",
        "    ?person :hasColleague ?colleague .\n",
        "    ?colleague :ownsPet ?pet .\n",
        "    ?pet a :Animal .\n",
        "  }\n",
        "  UNION\n",
        "  {\n",
        "    ?person :hasColleague ?colleague .\n",
        "    ?colleague :hasColleague ?colleague2 .\n",
        "    ?colleague2 :ownsPet ?pet2 .\n",
        "    ?pet2 a :Animal .\n",
        "  }\n",
        "  ?person rdfs:label ?name .\n",
        "}\n",
        "\"\"\"\n",
        "for r in g.query(query):\n",
        "  print(r.name)\n",
        "\n",
        "# Visualize the results"
      ]
    },
    {
      "cell_type": "code",
      "execution_count": 16,
      "metadata": {
        "id": "zcTZE7ngj2fc"
      },
      "outputs": [
        {
          "name": "stdout",
          "output_type": "stream",
          "text": [
            "TASK 7.4 OK\n"
          ]
        }
      ],
      "source": [
        "## Validation: Do not remove\n",
        "report.validate_07_04(g,query)\n",
        "report.save_report(\"_Task_07\")"
      ]
    }
  ],
  "metadata": {
    "colab": {
      "provenance": []
    },
    "kernelspec": {
      "display_name": "base",
      "language": "python",
      "name": "python3"
    },
    "language_info": {
      "codemirror_mode": {
        "name": "ipython",
        "version": 3
      },
      "file_extension": ".py",
      "mimetype": "text/x-python",
      "name": "python",
      "nbconvert_exporter": "python",
      "pygments_lexer": "ipython3",
      "version": "3.11.5"
    }
  },
  "nbformat": 4,
  "nbformat_minor": 0
}
